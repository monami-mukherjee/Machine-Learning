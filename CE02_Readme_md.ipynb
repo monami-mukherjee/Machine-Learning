{
  "nbformat": 4,
  "nbformat_minor": 0,
  "metadata": {
    "colab": {
      "name": "CE02_Readme.md",
      "provenance": []
    },
    "kernelspec": {
      "name": "python3",
      "display_name": "Python 3"
    },
    "language_info": {
      "name": "python"
    }
  },
  "cells": [
    {
      "cell_type": "markdown",
      "source": [
        "In this project, I program and describe in detail the process of using a Naive Bayes supervised machine learning algorithm to classify email spam."
      ],
      "metadata": {
        "id": "TkjmA_B15Smx"
      }
    }
  ]
}